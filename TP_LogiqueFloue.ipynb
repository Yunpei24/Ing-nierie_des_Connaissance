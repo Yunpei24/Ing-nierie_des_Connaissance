{
  "nbformat": 4,
  "nbformat_minor": 0,
  "metadata": {
    "colab": {
      "provenance": [],
      "authorship_tag": "ABX9TyP2OCsA1ujdZXiRfewHol7K",
      "include_colab_link": true
    },
    "kernelspec": {
      "name": "python3",
      "display_name": "Python 3"
    },
    "language_info": {
      "name": "python"
    }
  },
  "cells": [
    {
      "cell_type": "markdown",
      "metadata": {
        "id": "view-in-github",
        "colab_type": "text"
      },
      "source": [
        "<a href=\"https://colab.research.google.com/github/Yunpei24/Ing-nierie_des_Connaissance/blob/main/TP_LogiqueFloue.ipynb\" target=\"_parent\"><img src=\"https://colab.research.google.com/assets/colab-badge.svg\" alt=\"Open In Colab\"/></a>"
      ]
    },
    {
      "cell_type": "code",
      "execution_count": null,
      "metadata": {
        "id": "7vkaDrpdCw2C"
      },
      "outputs": [],
      "source": [
        "!pip install -U scikit-fuzzy"
      ]
    },
    {
      "cell_type": "code",
      "source": [
        "#Les importations\n",
        "import numpy as np\n",
        "import skfuzzy as fuzz\n",
        "from skfuzzy import control as ctrl \n",
        "import matplotlib.pyplot as plt"
      ],
      "metadata": {
        "id": "oeldiyDxC-jw"
      },
      "execution_count": 3,
      "outputs": []
    },
    {
      "cell_type": "markdown",
      "source": [
        "**Fonctions d'Appartenance floues**\n",
        "1.   dsigmf\n",
        "2.   gauss2mf\n",
        "1.   gaussmf\n",
        "2.   trapmf\n",
        "\n",
        "1.   etc.\n",
        "\n",
        "\n",
        "\n",
        "\n",
        "\n"
      ],
      "metadata": {
        "id": "trVro_H9EFBQ"
      }
    },
    {
      "cell_type": "markdown",
      "source": [
        "**Les antécedants**"
      ],
      "metadata": {
        "id": "jDwOz1jvH2UW"
      }
    },
    {
      "cell_type": "code",
      "source": [
        "#Antécédent et Conséquence\n",
        "\n",
        "#La taille est située dans un intervalle de 0 à 200 (cm) coupé par pas de 5\n",
        "taille = ctrl.Antecedent(np.arange(0, 200, 5), 'taille')\n",
        "\n",
        "#La proximitée du bord est située dans un intervalle de 0 à 200 (cm) coupé par pas de 5\n",
        "proximite_bord = ctrl.Antecedent(np.arange(0, 200, 5), 'proximite_bord')\n",
        "\n",
        "# Le freinage est situé dans un intervalle de 0 à 100 coupé par pas de 2\n",
        "frein = ctrl.Consequent(np.arange(0, 100, 2), 'frein')"
      ],
      "metadata": {
        "id": "vCNEBEZjDu6d"
      },
      "execution_count": 4,
      "outputs": []
    },
    {
      "cell_type": "markdown",
      "source": [
        "**Intervalles**"
      ],
      "metadata": {
        "id": "r4nOmAFOKIx7"
      }
    },
    {
      "cell_type": "code",
      "source": [
        "# Une courbe trapèzoidale, petit=1 jusqu'à 120cm, petit=0 à partir de 160cm\n",
        "taille_petit = fuzz.trapmf(taille.universe, [0, 0, 120, 160])\n",
        "\n",
        "# Une courbe trapèzoidale, grand=0 jusqu'à 130cm, grand=1 à partir de 170cm\n",
        "taille_grand = fuzz.trapmf(taille.universe, [130, 170, 200, 200])\n",
        "\n",
        "taille['pre'] = taille_petit\n",
        "taille['post'] = taille_grand"
      ],
      "metadata": {
        "id": "_GdL1G9dKNhC"
      },
      "execution_count": 5,
      "outputs": []
    },
    {
      "cell_type": "code",
      "source": [
        "plt.plot(taille.universe, taille_grand, 'r', label='PostAdo')\n",
        "plt.plot(taille.universe, taille_petit, 'b', label='PreAdo')\n",
        "plt.legend()\n",
        "plt.show()"
      ],
      "metadata": {
        "colab": {
          "base_uri": "https://localhost:8080/",
          "height": 265
        },
        "id": "B83onTTCM757",
        "outputId": "32048904-5b27-4352-877b-faa884d65477"
      },
      "execution_count": 7,
      "outputs": [
        {
          "output_type": "display_data",
          "data": {
            "text/plain": [
              "<Figure size 432x288 with 1 Axes>"
            ],
            "image/png": "[encoded data removed]"
          },
          "metadata": {
            "needs_background": "light"
          }
        }
      ]
    }
  ]
}